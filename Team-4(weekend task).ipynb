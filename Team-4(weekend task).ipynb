{
 "cells": [
  {
   "cell_type": "markdown",
   "id": "7ccf1cc0",
   "metadata": {},
   "source": [
    "### 1E.Create a function that takes a list of numbers and returns a list where each number is the sum of itself + all previous numbers in the list.(For &while loop)"
   ]
  },
  {
   "cell_type": "code",
   "execution_count": 4,
   "id": "c501802b",
   "metadata": {},
   "outputs": [
    {
     "name": "stdout",
     "output_type": "stream",
     "text": [
      "[1, 3, 6, 10, 15]\n"
     ]
    }
   ],
   "source": [
    "lst = [1, 2, 3, 4, 5]\n",
    "res = []\n",
    "for i in range(len(lst)):\n",
    "    res.append(sum(lst[:i+1]))\n",
    "print(res) "
   ]
  },
  {
   "cell_type": "code",
   "execution_count": 3,
   "id": "09417258",
   "metadata": {},
   "outputs": [
    {
     "name": "stdout",
     "output_type": "stream",
     "text": [
      "[1, 3, 6, 10, 15]\n"
     ]
    }
   ],
   "source": [
    "lst = [1, 2, 3, 4, 5]\n",
    "res = []\n",
    "prev_sum = 0\n",
    "while lst:\n",
    "    res.append(lst[0] + prev_sum)\n",
    "    prev_sum += lst[0]\n",
    "    lst = lst[1:]\n",
    "print(res) "
   ]
  },
  {
   "cell_type": "markdown",
   "id": "83c118ef",
   "metadata": {},
   "source": [
    "  "
   ]
  },
  {
   "cell_type": "markdown",
   "id": "b747e543",
   "metadata": {},
   "source": [
    "### 2E.Create a function which concatenates the number 7 to the end of every chord in a list. Ignore all chords which already end with 7.(while&for loop)"
   ]
  },
  {
   "cell_type": "code",
   "execution_count": 5,
   "id": "3119d633",
   "metadata": {},
   "outputs": [
    {
     "name": "stdout",
     "output_type": "stream",
     "text": [
      "['S7', 'H7', 'I#7', 'V#A7']\n"
     ]
    }
   ],
   "source": [
    "chords = ['S', 'H7', 'I#', 'V#A7']\n",
    "x = 0\n",
    "while x < len(chords):\n",
    "    if not chords[x].endswith('7'):\n",
    "        chords[x] = chords[x] + '7'\n",
    "    x = x + 1\n",
    "print(chords)"
   ]
  },
  {
   "cell_type": "code",
   "execution_count": 6,
   "id": "633ac4ab",
   "metadata": {},
   "outputs": [
    {
     "name": "stdout",
     "output_type": "stream",
     "text": [
      "['S7', 'H7', 'I#7', 'V#A7']\n"
     ]
    }
   ],
   "source": [
    "chords = ['S', 'H7', 'I#', 'V#A7']\n",
    "for i in range(len(chords)):\n",
    "    if not chords[i].endswith(\"7\"):\n",
    "        chords[i] = chords[i] + '7'\n",
    "print(chords)"
   ]
  },
  {
   "cell_type": "markdown",
   "id": "87fc6904",
   "metadata": {},
   "source": [
    "### 3E.Create a function that takes two strings as arguments and returns the number of times the first string (the single character) is found in the second string.(while & for loop)"
   ]
  },
  {
   "cell_type": "code",
   "execution_count": 9,
   "id": "f7e200d8",
   "metadata": {},
   "outputs": [
    {
     "name": "stdout",
     "output_type": "stream",
     "text": [
      "Enter a single character: h\n",
      "Enter a string: sharath\n",
      "h found 2 times in sharath.\n"
     ]
    }
   ],
   "source": [
    "character = input(\"Enter a single character: \")\n",
    "string = input(\"Enter a string: \")\n",
    "count = 0\n",
    "x = 0\n",
    "while x < len(string):\n",
    "    if string[x] == character:\n",
    "        count = count + 1\n",
    "    x = x + 1\n",
    "print(f\"{character} found {count} times in {string}.\")"
   ]
  },
  {
   "cell_type": "code",
   "execution_count": 10,
   "id": "928a852f",
   "metadata": {},
   "outputs": [
    {
     "name": "stdout",
     "output_type": "stream",
     "text": [
      "h found 2 times in Sharath.\n"
     ]
    }
   ],
   "source": [
    "first_string = \"h\"\n",
    "second_string = \"Sharath\"\n",
    "count = 0\n",
    "for character in second_string:\n",
    "    if character == first_string:\n",
    "        count = count + 1\n",
    "print(f\"{first_string} found {count} times in {second_string}.\")"
   ]
  },
  {
   "cell_type": "markdown",
   "id": "cdd0afce",
   "metadata": {},
   "source": [
    "   "
   ]
  },
  {
   "cell_type": "markdown",
   "id": "99cd4014",
   "metadata": {},
   "source": [
    "### 4E.Create a function that takes an array of non-negative integers and strings and return a new array without the strings.(while & for loop)"
   ]
  },
  {
   "cell_type": "code",
   "execution_count": 11,
   "id": "e1396f7d",
   "metadata": {},
   "outputs": [
    {
     "name": "stdout",
     "output_type": "stream",
     "text": [
      "[1, 2]\n"
     ]
    }
   ],
   "source": [
    "array = [1, 2, \"akshith\", \"ayesha\"]\n",
    "new_array = []\n",
    "i = 0\n",
    "while i < len(array):\n",
    "    if isinstance(array[i], int):\n",
    "        new_array.append(array[i])\n",
    "    i += 1\n",
    "print(new_array)"
   ]
  },
  {
   "cell_type": "code",
   "execution_count": 12,
   "id": "9ccccf8b",
   "metadata": {},
   "outputs": [
    {
     "name": "stdout",
     "output_type": "stream",
     "text": [
      "[1, 2]\n"
     ]
    }
   ],
   "source": [
    "array = [1, 2, \"akshith\", \"ayesha\"]\n",
    "new_array = []\n",
    "for x in array:\n",
    "    if isinstance(x, int):\n",
    "        new_array.append(x)\n",
    "print(new_array)"
   ]
  },
  {
   "cell_type": "markdown",
   "id": "36d6efeb",
   "metadata": {},
   "source": [
    "   "
   ]
  },
  {
   "cell_type": "markdown",
   "id": "a0728244",
   "metadata": {},
   "source": [
    "### 5E.Create a function that takes a string and returns the number (count) of vowels contained within it.(while &for loop)"
   ]
  },
  {
   "cell_type": "code",
   "execution_count": 14,
   "id": "67d5cd89",
   "metadata": {},
   "outputs": [
    {
     "name": "stdout",
     "output_type": "stream",
     "text": [
      "The number of vowels in the string is 2\n"
     ]
    }
   ],
   "source": [
    "string = \"Sharath\"\n",
    "vowel_count = 0\n",
    "x = 0\n",
    "vowels = \"aeiouAEIOU\"\n",
    "while x < len(string):\n",
    "    if string[x] in vowels:\n",
    "        vowel_count = vowel_count + 1\n",
    "    x = x + 1\n",
    "print(\"The number of vowels in the string is\", vowel_count)"
   ]
  },
  {
   "cell_type": "code",
   "execution_count": 15,
   "id": "71a7b459",
   "metadata": {},
   "outputs": [
    {
     "name": "stdout",
     "output_type": "stream",
     "text": [
      "The number of vowels in the string is 2\n"
     ]
    }
   ],
   "source": [
    "string = \"Sharath\"\n",
    "vowel_count = 0\n",
    "vowels = \"aeiouAEIOU\"\n",
    "for charachter in string:\n",
    "    if charachter in vowels:\n",
    "        vowel_count = vowel_count + 1\n",
    "print(\"The number of vowels in the string is\", vowel_count)"
   ]
  },
  {
   "cell_type": "markdown",
   "id": "06da595a",
   "metadata": {},
   "source": [
    "### 6E.Create a function that takes a list and finds the integer which appears an odd number of times.(while&for loop)"
   ]
  },
  {
   "cell_type": "code",
   "execution_count": 19,
   "id": "f7f65fc7",
   "metadata": {},
   "outputs": [
    {
     "name": "stdout",
     "output_type": "stream",
     "text": [
      "The integer that appears an odd number of times is: 3\n"
     ]
    }
   ],
   "source": [
    "my_list = [9, 6, 7, 5, 2, 9, 6, 9, 1]\n",
    "while len(my_list) > 0:\n",
    "    element = my_list[0]\n",
    "    count = my_list.count(element)\n",
    "    print(f\"The integer that appears an odd number of times is: {count}\")\n",
    "    break"
   ]
  },
  {
   "cell_type": "code",
   "execution_count": 20,
   "id": "37a740e2",
   "metadata": {},
   "outputs": [
    {
     "name": "stdout",
     "output_type": "stream",
     "text": [
      "The integer that appears an odd number of times is: 9\n"
     ]
    }
   ],
   "source": [
    "my_list = [9, 6, 7, 5, 2, 9, 6, 9, 1]\n",
    "count = {}\n",
    "for x in my_list:\n",
    "    if x in count:\n",
    "        count[x] = count[x] + 1\n",
    "    else:\n",
    "        count[x] = 1\n",
    "result = None\n",
    "for s, g in count.items():\n",
    "    if g % 2 != 0:\n",
    "        result = s\n",
    "        break\n",
    "print(f\"The integer that appears an odd number of times is: {result}\")"
   ]
  },
  {
   "cell_type": "markdown",
   "id": "c12edfb6",
   "metadata": {},
   "source": [
    "  "
   ]
  },
  {
   "cell_type": "markdown",
   "id": "28ffa490",
   "metadata": {},
   "source": [
    "### 7E.Create a function that computes the hamming distance between two strings.(while&for loop)"
   ]
  },
  {
   "cell_type": "code",
   "execution_count": 24,
   "id": "7154c6cd",
   "metadata": {},
   "outputs": [
    {
     "name": "stdout",
     "output_type": "stream",
     "text": [
      "The Hamming distance between 'sonu' and 'sono' is 1\n"
     ]
    }
   ],
   "source": [
    "str1 = \"sonu\"\n",
    "str2 = \"sono\"\n",
    "distance = 0\n",
    "i = 0\n",
    "while i < len(str1):\n",
    "    if string1[i] != string2[i]:\n",
    "        distance = distance + 1\n",
    "    i = i + 1\n",
    "print(f\"The Hamming distance between '{str1}' and '{str2}' is {distance}\")"
   ]
  },
  {
   "cell_type": "code",
   "execution_count": 25,
   "id": "b1bbcdd6",
   "metadata": {},
   "outputs": [
    {
     "name": "stdout",
     "output_type": "stream",
     "text": [
      "The Hamming distance between 'sonu' and 'Sono' is 1\n"
     ]
    }
   ],
   "source": [
    "str1 = \"sonu\"\n",
    "str2 = \"Sono\"\n",
    "distance = 0\n",
    "for i in range(len(string1)):\n",
    "    if string1[i] != string2[i]:\n",
    "        distance = distance + 1\n",
    "print(f\"The Hamming distance between '{str1}' and '{str2}' is {distance}\")"
   ]
  },
  {
   "cell_type": "markdown",
   "id": "3b342eaa",
   "metadata": {},
   "source": [
    "  "
   ]
  },
  {
   "cell_type": "markdown",
   "id": "3ffd2bd1",
   "metadata": {},
   "source": [
    "### 8E. Create a function that takes a list of non-negative integers and strings and return a new list without the strings.(while&for loop)"
   ]
  },
  {
   "cell_type": "code",
   "execution_count": 26,
   "id": "8b5fae7e",
   "metadata": {},
   "outputs": [
    {
     "name": "stdout",
     "output_type": "stream",
     "text": [
      "['ayesha', 'akshith']\n"
     ]
    }
   ],
   "source": [
    "array = [1, 2, \"ayesha\", \"akshith\"]\n",
    "new_array = []\n",
    "i = 0\n",
    "while i < len(array):\n",
    "    if isinstance(array[i], str):\n",
    "        new_array.append(array[i])\n",
    "    i += 1\n",
    "print(new_array)"
   ]
  },
  {
   "cell_type": "code",
   "execution_count": 27,
   "id": "d0c59356",
   "metadata": {},
   "outputs": [
    {
     "name": "stdout",
     "output_type": "stream",
     "text": [
      "['ayesha', 'akshith']\n"
     ]
    }
   ],
   "source": [
    "array = [1, 2, \"ayesha\", \"akshith\"]\n",
    "new_array = []\n",
    "for x in array:\n",
    "    if isinstance(x, str):\n",
    "        new_array.append(x)\n",
    "print(new_array)"
   ]
  },
  {
   "cell_type": "markdown",
   "id": "40c52fa3",
   "metadata": {},
   "source": [
    "  "
   ]
  },
  {
   "cell_type": "markdown",
   "id": "a49cf284",
   "metadata": {},
   "source": [
    "### 9E.Create a function that takes a list of strings and integers, and filters out the list so that it returns a list of integers only.(while&for loop)"
   ]
  },
  {
   "cell_type": "code",
   "execution_count": 29,
   "id": "5c93d840",
   "metadata": {},
   "outputs": [
    {
     "name": "stdout",
     "output_type": "stream",
     "text": [
      "[1, 2, 3]\n"
     ]
    }
   ],
   "source": [
    "frnds_list = [1, 'Sharath', 2, 'akshith', 3, 'ayesha']\n",
    "x = 0\n",
    "integers_only = []\n",
    "while x < len(frnds_list):\n",
    "    if isinstance(frnds_list[x], int):\n",
    "        integers_only.append(frnds_list[x])\n",
    "    x = x + 1\n",
    "print(integers_only)"
   ]
  },
  {
   "cell_type": "code",
   "execution_count": 31,
   "id": "8240080f",
   "metadata": {},
   "outputs": [
    {
     "name": "stdout",
     "output_type": "stream",
     "text": [
      "[1, 2, 3]\n"
     ]
    }
   ],
   "source": [
    "frnds_list = [1, 'Sharath', 2, 'Akshith', 3, 'ayesha']\n",
    "num_list = []\n",
    "for item in frnds_list:\n",
    "    if isinstance(item, int):\n",
    "        num_list.append(item)\n",
    "print(num_list)"
   ]
  },
  {
   "cell_type": "markdown",
   "id": "24104b06",
   "metadata": {},
   "source": [
    "   "
   ]
  },
  {
   "cell_type": "markdown",
   "id": "4bd98285",
   "metadata": {},
   "source": [
    "### 10E.Create a function that counts the number and returns it from the list of cards provided.(while&for loop)"
   ]
  },
  {
   "cell_type": "code",
   "execution_count": 32,
   "id": "de45fff9",
   "metadata": {},
   "outputs": [
    {
     "name": "stdout",
     "output_type": "stream",
     "text": [
      "Number of cards: 8\n"
     ]
    }
   ],
   "source": [
    "cards = [2, 'J', 7, 'K', 'Q', 'A', 5, 4]\n",
    "count = 0\n",
    "x = 0\n",
    "while x < len(cards):\n",
    "    count += 1\n",
    "    x += 1\n",
    "print(\"Number of cards:\", count)"
   ]
  },
  {
   "cell_type": "code",
   "execution_count": 33,
   "id": "2f66a170",
   "metadata": {},
   "outputs": [
    {
     "name": "stdout",
     "output_type": "stream",
     "text": [
      "8\n"
     ]
    }
   ],
   "source": [
    "cards = [2, 'J', 7, 'K', 'Q', 'A', 5, 4]\n",
    "count = 0\n",
    "for x in cards:\n",
    "    count += 1\n",
    "print(count)"
   ]
  },
  {
   "cell_type": "markdown",
   "id": "5a74ee8a",
   "metadata": {},
   "source": [
    "   "
   ]
  },
  {
   "cell_type": "markdown",
   "id": "ccb25754",
   "metadata": {},
   "source": [
    "### 11E.Create a function that takes a list of strings and integers, and filters out the list so that it returns a list of String only.(while&for loop)"
   ]
  },
  {
   "cell_type": "code",
   "execution_count": 34,
   "id": "a3b40599",
   "metadata": {},
   "outputs": [
    {
     "name": "stdout",
     "output_type": "stream",
     "text": [
      "['sharath', 'Akshith', 'ayesha']\n"
     ]
    }
   ],
   "source": [
    "frnds_list = [1, 'sharath', 2, 'Akshith', 3, 'ayesha']\n",
    "x = 0\n",
    "integers_only = []\n",
    "while x < len(frnds_list):\n",
    "    if isinstance(frnds_list[x], str):\n",
    "        integers_only.append(frnds_list[x])\n",
    "    x = x + 1\n",
    "print(integers_only)"
   ]
  },
  {
   "cell_type": "code",
   "execution_count": 36,
   "id": "1f6dcdb7",
   "metadata": {},
   "outputs": [
    {
     "name": "stdout",
     "output_type": "stream",
     "text": [
      "['sharath', 'akshith', 'ayesha']\n"
     ]
    }
   ],
   "source": [
    "frnds_list = [1, 'sharath', 2, 'akshith', 3, 'ayesha']\n",
    "num_list = []\n",
    "for item in frnds_list:\n",
    "    if isinstance(item, str):\n",
    "        num_list.append(item)\n",
    "print(num_list)"
   ]
  },
  {
   "cell_type": "markdown",
   "id": "70c2797a",
   "metadata": {},
   "source": [
    "   "
   ]
  },
  {
   "cell_type": "markdown",
   "id": "0d518ef1",
   "metadata": {},
   "source": [
    "### 12E.Create a function that sorts a list and removes all duplicate items from it.(while&for loop)"
   ]
  },
  {
   "cell_type": "code",
   "execution_count": 37,
   "id": "5f10059e",
   "metadata": {},
   "outputs": [
    {
     "name": "stdout",
     "output_type": "stream",
     "text": [
      "[2, 4, 5, 6, 8, 9]\n"
     ]
    }
   ],
   "source": [
    "numbers = [2,5,6,4,2,4,6,8,9,5,8]\n",
    "numbers.sort()\n",
    "i = 0\n",
    "while i < len(numbers) - 1:\n",
    "    if numbers[i] == numbers[i + 1]:\n",
    "        del numbers[i]\n",
    "    else:\n",
    "        i += 1\n",
    "print(numbers)"
   ]
  },
  {
   "cell_type": "code",
   "execution_count": 38,
   "id": "d17a75b3",
   "metadata": {},
   "outputs": [
    {
     "name": "stdout",
     "output_type": "stream",
     "text": [
      "[2, 4, 5, 6, 8, 9]\n"
     ]
    }
   ],
   "source": [
    "numbers = [2,5,6,4,2,4,6,8,9,5,8]\n",
    "for i in range(len(numbers)):\n",
    "    for j in range(0, len(numbers)-i-1):\n",
    "        if numbers[j] > numbers[j+1]:\n",
    "            numbers[j], numbers[j+1] = numbers[j+1], numbers[j]\n",
    "unique_list = []\n",
    "for num in numbers:\n",
    "    if num not in unique_list:\n",
    "        unique_list.append(num)\n",
    "print(unique_list)"
   ]
  },
  {
   "cell_type": "markdown",
   "id": "1bdef1c9",
   "metadata": {},
   "source": [
    "   "
   ]
  },
  {
   "cell_type": "markdown",
   "id": "7f1e78ee",
   "metadata": {},
   "source": [
    "### 13E. Create a function that takes a dictionary of student names and returns a list of student names in alphabetical order.(while&for loop)"
   ]
  },
  {
   "cell_type": "code",
   "execution_count": 39,
   "id": "a1af2c5b",
   "metadata": {},
   "outputs": [
    {
     "name": "stdout",
     "output_type": "stream",
     "text": [
      "['Akshith', 'Ayesha', 'Sharath']\n"
     ]
    }
   ],
   "source": [
    "students = {\n",
    "    3: 'Akshith',\n",
    "    1: 'Sharath',\n",
    "    2: 'Ayesha',\n",
    "}\n",
    "names = []\n",
    "while students:\n",
    "    min_key = min(students.keys())\n",
    "    names.append(students.pop(min_key))\n",
    "    names.sort()\n",
    "print(names)"
   ]
  },
  {
   "cell_type": "code",
   "execution_count": 40,
   "id": "5b63878e",
   "metadata": {},
   "outputs": [
    {
     "name": "stdout",
     "output_type": "stream",
     "text": [
      "['Akshith', 'Ayesha', 'Sharath']\n"
     ]
    }
   ],
   "source": [
    "students = {\n",
    "     'Akshith' : 3,\n",
    "     'Sharath': 1,\n",
    "     'Ayesha': 2,\n",
    "}\n",
    "names = list(students.keys())\n",
    "for i in range(len(names)):\n",
    "    for j in range(i + 1, len(names)):\n",
    "        if names[i] > names[j]:\n",
    "            names[i], names[j] = names[j], names[i]\n",
    "print(names)"
   ]
  },
  {
   "cell_type": "markdown",
   "id": "f78a8367",
   "metadata": {},
   "source": [
    "  "
   ]
  },
  {
   "cell_type": "markdown",
   "id": "56a24d40",
   "metadata": {},
   "source": [
    "### 14E.Create a function that returns the mean of all digits.(while&for loop)"
   ]
  },
  {
   "cell_type": "code",
   "execution_count": 42,
   "id": "4ee307a0",
   "metadata": {},
   "outputs": [
    {
     "name": "stdout",
     "output_type": "stream",
     "text": [
      "Mean of the digits: 5.5\n"
     ]
    }
   ],
   "source": [
    "number = 456189\n",
    "total = 0\n",
    "count = 0\n",
    "while number > 0:\n",
    "    digit = number % 10\n",
    "    total += digit\n",
    "    count += 1\n",
    "    number = number // 10\n",
    "mean = total / count\n",
    "print(\"Mean of the digits:\", mean)"
   ]
  },
  {
   "cell_type": "code",
   "execution_count": 43,
   "id": "b2427c4d",
   "metadata": {},
   "outputs": [
    {
     "name": "stdout",
     "output_type": "stream",
     "text": [
      "Mean: 5.5\n"
     ]
    }
   ],
   "source": [
    "numbers = [4,5,6,1,8,9]\n",
    "total = 0\n",
    "count = 0\n",
    "for number in numbers:\n",
    "    total += number\n",
    "    count += 1\n",
    "mean = total / count\n",
    "print(\"Mean:\", mean)"
   ]
  },
  {
   "cell_type": "markdown",
   "id": "4f1e7d04",
   "metadata": {},
   "source": [
    "   "
   ]
  },
  {
   "cell_type": "markdown",
   "id": "2a2e7358",
   "metadata": {},
   "source": [
    "### 15E.Create a function which returns a list of booleans, from a given number. Iterating through the number one digit at a time, append True if the digit is 1 and False if it is 0.(while&for loop)\n"
   ]
  },
  {
   "cell_type": "code",
   "execution_count": 48,
   "id": "08d0ccf6",
   "metadata": {},
   "outputs": [
    {
     "name": "stdout",
     "output_type": "stream",
     "text": [
      "[False, False, True, False, False, False, False, True, False, False, False, False, False, True]\n"
     ]
    }
   ],
   "source": [
    "number = 33003003000030033333\n",
    "bool_list = []\n",
    "while number > 0:\n",
    "    digit = number % 30\n",
    "    if digit == 3:\n",
    "        bool_list.append(True)\n",
    "    else:\n",
    "        bool_list.append(False)\n",
    "    number //= 30\n",
    "bool_list.reverse()\n",
    "print(bool_list)"
   ]
  },
  {
   "cell_type": "code",
   "execution_count": 50,
   "id": "5a0c3859",
   "metadata": {},
   "outputs": [
    {
     "name": "stdout",
     "output_type": "stream",
     "text": [
      "[True]\n",
      "[True]\n",
      "[True]\n",
      "[False]\n",
      "[False]\n",
      "[False]\n",
      "[True]\n",
      "[True]\n",
      "[True]\n",
      "[False]\n"
     ]
    }
   ],
   "source": [
    "number = 3330003330\n",
    "for digit in str(number):\n",
    "    result = [digit == '3']\n",
    "    print(result)"
   ]
  },
  {
   "cell_type": "markdown",
   "id": "64907c99",
   "metadata": {},
   "source": [
    "   "
   ]
  },
  {
   "cell_type": "markdown",
   "id": "25baa9c2",
   "metadata": {},
   "source": [
    "### 16E.Create a function that takes a sequence of either strings or integers, removes the surrounding duplicates and returns a list of items without any items with the same value next to each other and preserves the original order of items.(while & for loop)"
   ]
  },
  {
   "cell_type": "code",
   "execution_count": 1,
   "id": "76ed31ea",
   "metadata": {},
   "outputs": [
    {
     "name": "stdout",
     "output_type": "stream",
     "text": [
      "[1, 2, 3, 'a', 'b', 'c', 4, 5]\n"
     ]
    }
   ],
   "source": [
    "sequence = [1, 1, 2, 3, 3, 'a', 'b', 'b', 'c', 'c', 'c', 4, 4, 5]\n",
    "result = []\n",
    "index = 0\n",
    "length = len(sequence)\n",
    "while index < length:\n",
    "    current_item = sequence[index]\n",
    "    result.append(current_item)\n",
    "    while index + 1 < length and sequence[index + 1] == current_item:\n",
    "        index += 1\n",
    "    index += 1\n",
    "print(result)\n"
   ]
  },
  {
   "cell_type": "code",
   "execution_count": 2,
   "id": "c8b1857b",
   "metadata": {},
   "outputs": [
    {
     "name": "stdout",
     "output_type": "stream",
     "text": [
      "[1, 2, 3, 'a', 'b', 'c', 4, 5]\n"
     ]
    }
   ],
   "source": [
    "sequence = [1, 1, 2, 3, 3, 'a', 'b', 'b', 'c', 'c', 'c', 4, 4, 5]\n",
    "result = []\n",
    "for item in sequence:\n",
    "    if not result or item != result[-1]:\n",
    "        result.append(item)\n",
    "print(result)\n"
   ]
  },
  {
   "cell_type": "markdown",
   "id": "d4d10b4e",
   "metadata": {},
   "source": [
    "   "
   ]
  },
  {
   "cell_type": "markdown",
   "id": "797bd41d",
   "metadata": {},
   "source": [
    "### 17E.Create a function that takes a string and returns a new string with each new character accumulating by +1. Separate each set with a dash.(while & for loop)"
   ]
  },
  {
   "cell_type": "code",
   "execution_count": 5,
   "id": "69990495",
   "metadata": {},
   "outputs": [
    {
     "name": "stdout",
     "output_type": "stream",
     "text": [
      "Enter a string: 656\n",
      "6-5-6\n"
     ]
    }
   ],
   "source": [
    "input_string = input(\"Enter a string: \")\n",
    "result = \"\"\n",
    "index = 0\n",
    "while index < len(input_string):\n",
    "    result += input_string[index]\n",
    "    index += 1\n",
    "    if index < len(input_string):\n",
    "        result += \"-\" \n",
    "print(result)\n"
   ]
  },
  {
   "cell_type": "code",
   "execution_count": 7,
   "id": "158dc5d6",
   "metadata": {},
   "outputs": [
    {
     "name": "stdout",
     "output_type": "stream",
     "text": [
      "Enter a string: 656\n",
      "6-5-6\n"
     ]
    }
   ],
   "source": [
    "input_string = input(\"Enter a string: \")\n",
    "result = \"\"\n",
    "for index in range(len(input_string)):\n",
    "    result += input_string[index]\n",
    "    if index < len(input_string) - 1:\n",
    "        result += \"-\"\n",
    "print(result)\n"
   ]
  },
  {
   "cell_type": "markdown",
   "id": "5e9c3146",
   "metadata": {},
   "source": [
    "   "
   ]
  },
  {
   "cell_type": "markdown",
   "id": "a9193fcb",
   "metadata": {},
   "source": [
    "### 18E.Write a function that returns the position of the second occurrence of \"zip\" in a string, or -1 if it does not occur at least twice. Your code should be general enough to pass every possible case where \"zip\" can occur in a string.(while & for loop)"
   ]
  },
  {
   "cell_type": "code",
   "execution_count": 12,
   "id": "6147df75",
   "metadata": {},
   "outputs": [
    {
     "name": "stdout",
     "output_type": "stream",
     "text": [
      "-1\n"
     ]
    }
   ],
   "source": [
    "string = \"your_input_string_here\"\n",
    "index = -1\n",
    "count = 0\n",
    "while True:\n",
    "    index = string.find(\"zip\", index + 1)\n",
    "    if index == -1:\n",
    "        break\n",
    "    count += 1\n",
    "    if count == 2:\n",
    "        break\n",
    "result = index if count == 2 else -1\n",
    "print(result)"
   ]
  },
  {
   "cell_type": "code",
   "execution_count": 13,
   "id": "54e0b31f",
   "metadata": {},
   "outputs": [
    {
     "name": "stdout",
     "output_type": "stream",
     "text": [
      "-1\n"
     ]
    }
   ],
   "source": [
    "string_to_search = \"your_string_here\"\n",
    "second_zip_position = -1\n",
    "count = 0\n",
    "for i in range(len(string_to_search) - 2):\n",
    "    if string_to_search[i:i+3] == \"zip\":  \n",
    "        count += 1\n",
    "        if count == 2:  \n",
    "            second_zip_position = i\n",
    "            break\n",
    "\n",
    "print(second_zip_position)\n"
   ]
  },
  {
   "cell_type": "markdown",
   "id": "204dacde",
   "metadata": {},
   "source": [
    "   "
   ]
  },
  {
   "cell_type": "markdown",
   "id": "e8e261a1",
   "metadata": {},
   "source": [
    "### 19E.Create a function that always returns True for every item in a given list. However, if an element is the word \"flick\", switch to always returning the opposite boolean value.(while & for loop)"
   ]
  },
  {
   "cell_type": "code",
   "execution_count": 14,
   "id": "dfad3e82",
   "metadata": {},
   "outputs": [
    {
     "name": "stdout",
     "output_type": "stream",
     "text": [
      "False\n",
      "False\n",
      "True\n",
      "True\n",
      "True\n"
     ]
    }
   ],
   "source": [
    "my_list = [\"apple\", \"banana\", \"flick\", \"orange\", \"grape\"]\n",
    "index = 0\n",
    "switch = False\n",
    "while index < len(my_list):\n",
    "    current_item = my_list[index]\n",
    "    if current_item == \"flick\":\n",
    "        switch = not switch\n",
    "    print(switch)\n",
    "    index += 1"
   ]
  },
  {
   "cell_type": "code",
   "execution_count": 15,
   "id": "cc0548cd",
   "metadata": {},
   "outputs": [
    {
     "name": "stdout",
     "output_type": "stream",
     "text": [
      "False\n",
      "False\n",
      "True\n",
      "True\n",
      "True\n"
     ]
    }
   ],
   "source": [
    "my_list = [\"apple\", \"banana\", \"flick\", \"orange\", \"grape\"]\n",
    "switch = False\n",
    "for item in my_list:\n",
    "    if item == \"flick\":\n",
    "        switch = not switch\n",
    "    print(switch)"
   ]
  },
  {
   "cell_type": "markdown",
   "id": "c9644499",
   "metadata": {},
   "source": [
    "   "
   ]
  },
  {
   "cell_type": "markdown",
   "id": "5e079400",
   "metadata": {},
   "source": [
    "### 20E.You are given a list of dates in the format Dec 11 and a month in the format Dec as arguments. Each date represents a video that was uploaded on that day. Return the number of uploads for a given month.(while & for loop)"
   ]
  },
  {
   "cell_type": "code",
   "execution_count": 16,
   "id": "9ba4ec85",
   "metadata": {},
   "outputs": [
    {
     "name": "stdout",
     "output_type": "stream",
     "text": [
      "Number of uploads in Dec: 4\n"
     ]
    }
   ],
   "source": [
    "dates_list = [\"Dec 11\", \"Dec 15\", \"Nov 22\", \"Dec 5\", \"Dec 18\", \"Nov 30\"]\n",
    "target_month = \"Dec\"\n",
    "upload_count = 0\n",
    "index = 0\n",
    "while index < len(dates_list):\n",
    "    if dates_list[index][:3] == target_month:\n",
    "        upload_count += 1\n",
    "    index += 1\n",
    "print(f\"Number of uploads in {target_month}: {upload_count}\")\n"
   ]
  },
  {
   "cell_type": "code",
   "execution_count": 17,
   "id": "126a0176",
   "metadata": {},
   "outputs": [
    {
     "name": "stdout",
     "output_type": "stream",
     "text": [
      "Number of uploads in Dec: 4\n"
     ]
    }
   ],
   "source": [
    "dates_list = [\"Dec 11\", \"Dec 15\", \"Nov 22\", \"Dec 5\", \"Dec 18\", \"Nov 30\"]\n",
    "target_month = \"Dec\"\n",
    "upload_count = 0\n",
    "for date in dates_list:\n",
    "    if date[:3] == target_month:\n",
    "        upload_count += 1\n",
    "print(f\"Number of uploads in {target_month}: {upload_count}\")\n"
   ]
  },
  {
   "cell_type": "code",
   "execution_count": null,
   "id": "5e7cd6ed",
   "metadata": {},
   "outputs": [],
   "source": []
  },
  {
   "cell_type": "code",
   "execution_count": null,
   "id": "f6d6c3e5",
   "metadata": {},
   "outputs": [],
   "source": []
  }
 ],
 "metadata": {
  "kernelspec": {
   "display_name": "Python 3 (ipykernel)",
   "language": "python",
   "name": "python3"
  },
  "language_info": {
   "codemirror_mode": {
    "name": "ipython",
    "version": 3
   },
   "file_extension": ".py",
   "mimetype": "text/x-python",
   "name": "python",
   "nbconvert_exporter": "python",
   "pygments_lexer": "ipython3",
   "version": "3.11.5"
  }
 },
 "nbformat": 4,
 "nbformat_minor": 5
}
